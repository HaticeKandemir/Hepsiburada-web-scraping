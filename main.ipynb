{
 "cells": [
  {
   "cell_type": "code",
   "execution_count": 3,
   "metadata": {},
   "outputs": [],
   "source": [
    "import warnings\n",
    "warnings.filterwarnings(\"ignore\")"
   ]
  },
  {
   "cell_type": "code",
   "execution_count": 4,
   "metadata": {},
   "outputs": [],
   "source": [
    "from selenium import webdriver \n",
    "from selenium.webdriver.chrome.service import Service as ChromeService\n",
    "from selenium.webdriver.common.by import By\n",
    "import pandas as pd\n",
    "from selenium.webdriver.support.wait import WebDriverWait\n",
    "from selenium.webdriver.support import expected_conditions as EC\n",
    "from selenium.webdriver.common.action_chains import ActionChains\n",
    "from selenium.common.exceptions import TimeoutException\n",
    "import time"
   ]
  },
  {
   "cell_type": "code",
   "execution_count": 9,
   "metadata": {},
   "outputs": [
    {
     "ename": "AttributeError",
     "evalue": "'WebDriver' object has no attribute 'navigate'",
     "output_type": "error",
     "traceback": [
      "\u001b[0;31m---------------------------------------------------------------------------\u001b[0m",
      "\u001b[0;31mAttributeError\u001b[0m                            Traceback (most recent call last)",
      "Cell \u001b[0;32mIn[9], line 49\u001b[0m\n\u001b[1;32m     45\u001b[0m brand_name \u001b[38;5;241m=\u001b[39m \u001b[38;5;28;01mNone\u001b[39;00m\n\u001b[1;32m     47\u001b[0m \u001b[38;5;66;03m# Get the product URL\u001b[39;00m\n\u001b[0;32m---> 49\u001b[0m \u001b[43mdriver\u001b[49m\u001b[38;5;241;43m.\u001b[39;49m\u001b[43mnavigate\u001b[49m()\u001b[38;5;241m.\u001b[39mrefresh(); \n\u001b[1;32m     51\u001b[0m product_url \u001b[38;5;241m=\u001b[39m li\u001b[38;5;241m.\u001b[39mfind_element(By\u001b[38;5;241m.\u001b[39mTAG_NAME,\u001b[38;5;124m\"\u001b[39m\u001b[38;5;124ma\u001b[39m\u001b[38;5;124m\"\u001b[39m)\u001b[38;5;241m.\u001b[39mget_attribute(\u001b[38;5;124m\"\u001b[39m\u001b[38;5;124mhref\u001b[39m\u001b[38;5;124m\"\u001b[39m)\n\u001b[1;32m     53\u001b[0m \u001b[38;5;66;03m# Open a new window, Switch to the new window\u001b[39;00m\n",
      "\u001b[0;31mAttributeError\u001b[0m: 'WebDriver' object has no attribute 'navigate'"
     ]
    }
   ],
   "source": [
    "\n",
    "driver_path = \"/usr/local/bin/chromedriver\"\n",
    "\n",
    "main_url = \"https://www.hepsiburada.com/\"\n",
    "\n",
    "# Create an empty DataFrame for user reviews and products\n",
    "\n",
    "reviews_df = pd.DataFrame(columns=['user reviews', 'rating', 'product url'])\n",
    "\n",
    "products_df = pd.DataFrame(columns=['product url', 'product name', 'img url','brand name','category name'])\n",
    "\n",
    "service = ChromeService(executable_path=driver_path)\n",
    "\n",
    "driver = webdriver.Chrome(service=service)\n",
    "\n",
    "driver.get(main_url)\n",
    "\n",
    "# Get the category name\n",
    "\n",
    "action = ActionChains(driver)\n",
    "\n",
    "navbar_element = driver.find_element(By.CLASS_NAME,'sf-MenuItems-WulWXvlfIAwNiOUGY7FP') \n",
    "\n",
    "action.move_to_element(navbar_element).perform()\n",
    "\n",
    "time.sleep(4)\n",
    "\n",
    "category_tag = driver.find_element(By.CLASS_NAME,'sf-ChildMenuItems-a4G0z3YJJWkQs7qKKuuj')\n",
    "\n",
    "category_name = category_tag.text\n",
    "\n",
    "category_tag.click()\n",
    "\n",
    "# Find <li> tags containing the list of products\n",
    "\n",
    "li_tags = driver.find_elements(By.CLASS_NAME,\"productListContent-zAP0Y5msy8OHn5z7T_K_\")\n",
    "                                     \n",
    "# Loop through each product\n",
    "\n",
    "for li in li_tags:\n",
    "    product_url = None\n",
    "    product_name = None\n",
    "    img_url = None\n",
    "    user_review = None\n",
    "    rating = None\n",
    "    brand_name = None\n",
    "    \n",
    "    # Get the product URL\n",
    "\n",
    "    product_url = li.find_element(By.TAG_NAME,\"a\").get_attribute(\"href\")\n",
    "\n",
    "    # Open a new window, Switch to the new window\n",
    "\n",
    "    driver.execute_script(\"window.open('');\")\n",
    "\n",
    "    driver.switch_to.window(driver.window_handles[-1]) \n",
    "\n",
    "    driver.get(product_url)\n",
    "\n",
    "    driver.set_window_size(1200, 900)\n",
    "\n",
    "    # Get the product name\n",
    "\n",
    "    product_name = driver.find_element(By.ID,\"product-name\").text\n",
    "\n",
    "    # Get the brand name \n",
    "\n",
    "    brand_name = driver.find_element(By.XPATH,\"/html/body/div[2]/main/div[3]/section[1]/div[3]/div/div[4]/div[1]/span/a\").text\n",
    "\n",
    "    # Get the product image URL\n",
    "\n",
    "    img_url = driver.find_element(By.CSS_SELECTOR,\"img[class='product-image']\").get_attribute(\"src\")\n",
    "\n",
    "    # Scroll down the page, Wait for user reviews to load\n",
    "\n",
    "    driver.execute_script(\"window.scrollTo(0,document.body.scrollHeight)\")\n",
    "\n",
    "    driver.find_element(By.XPATH,'//*[@id=\"productReviewsTab\"]').click()\n",
    "\n",
    "    # Process each user review\n",
    "\n",
    "    try:\n",
    "\n",
    "        all_reviews_button = WebDriverWait(driver, 10).until(EC.presence_of_element_located((By.XPATH, \"//*[@id='hermes-voltran-comments']/div[2]/div[1]/a\"))).click()\n",
    "\n",
    "    except TimeoutException:\n",
    "\n",
    "        driver.close()\n",
    "\n",
    "        # Switch back to the main window\n",
    "\n",
    "        driver.switch_to.window(driver.window_handles[0])\n",
    "        continue\n",
    "\n",
    "    \n",
    "    driver.execute_script(\"window.scrollTo(0,document.body.scrollHeight)\")\n",
    "\n",
    "    last_reviews = driver.find_elements(By.XPATH,'//*[@id=\"hermes-voltran-comments\"]/div[6]/div[3]/div[2]/div/ul/li')[-1].text\n",
    "    \n",
    "    for i in range(int(last_reviews)):\n",
    "\n",
    "        all_reviews_div = driver.find_elements(By.CLASS_NAME,\"hermes-ReviewCard-module-BJtQZy5Ub3goN_D0yNOP\")\n",
    "                     \n",
    "        for review in all_reviews_div:\n",
    "\n",
    "            rating = len(review.find_elements(By.CSS_SELECTOR, \"div[class='star']\"))\n",
    "        \n",
    "            try:\n",
    "                user_review = review.find_element(By.CSS_SELECTOR, \"span[itemprop='description']\").text\n",
    "\n",
    "            except:\n",
    "                user_review = None\n",
    "            \n",
    "            reviews_df.loc[len(reviews_df)] = [user_review,rating,product_url]\n",
    "\n",
    "        driver.set_window_size(400, 826)\n",
    "\n",
    "        driver.execute_script(\"window.scrollTo(0,document.body.scrollHeight)\")\n",
    "\n",
    "        next_page_button = WebDriverWait(driver, 10).until(EC.element_to_be_clickable((By.XPATH,'//*[@id=\"hermes-voltran-comments\"]/div[6]/div[3]/div[2]/div/div/div/div[3]')))\n",
    "\n",
    "        driver.execute_script(\"arguments[0].click()\",next_page_button)\n",
    "                        \n",
    "    driver.close()\n",
    "\n",
    "    # Switch back to the main window\n",
    "\n",
    "    driver.switch_to.window(driver.window_handles[0])\n",
    "\n",
    "    # Add products to the DataFrame\n",
    "\n",
    "    products_df.loc[len(products_df)]=[product_url,product_name,img_url,brand_name,category_name]\n",
    "\n",
    "driver.quit()"
   ]
  },
  {
   "cell_type": "code",
   "execution_count": 7,
   "metadata": {},
   "outputs": [
    {
     "data": {
      "text/html": [
       "<div>\n",
       "<style scoped>\n",
       "    .dataframe tbody tr th:only-of-type {\n",
       "        vertical-align: middle;\n",
       "    }\n",
       "\n",
       "    .dataframe tbody tr th {\n",
       "        vertical-align: top;\n",
       "    }\n",
       "\n",
       "    .dataframe thead th {\n",
       "        text-align: right;\n",
       "    }\n",
       "</style>\n",
       "<table border=\"1\" class=\"dataframe\">\n",
       "  <thead>\n",
       "    <tr style=\"text-align: right;\">\n",
       "      <th></th>\n",
       "      <th>product url</th>\n",
       "      <th>product name</th>\n",
       "      <th>img url</th>\n",
       "      <th>brand name</th>\n",
       "      <th>category name</th>\n",
       "    </tr>\n",
       "  </thead>\n",
       "  <tbody>\n",
       "  </tbody>\n",
       "</table>\n",
       "</div>"
      ],
      "text/plain": [
       "Empty DataFrame\n",
       "Columns: [product url, product name, img url, brand name, category name]\n",
       "Index: []"
      ]
     },
     "execution_count": 7,
     "metadata": {},
     "output_type": "execute_result"
    }
   ],
   "source": [
    "products_df"
   ]
  },
  {
   "cell_type": "code",
   "execution_count": 6,
   "metadata": {},
   "outputs": [
    {
     "data": {
      "text/html": [
       "<div>\n",
       "<style scoped>\n",
       "    .dataframe tbody tr th:only-of-type {\n",
       "        vertical-align: middle;\n",
       "    }\n",
       "\n",
       "    .dataframe tbody tr th {\n",
       "        vertical-align: top;\n",
       "    }\n",
       "\n",
       "    .dataframe thead th {\n",
       "        text-align: right;\n",
       "    }\n",
       "</style>\n",
       "<table border=\"1\" class=\"dataframe\">\n",
       "  <thead>\n",
       "    <tr style=\"text-align: right;\">\n",
       "      <th></th>\n",
       "      <th>user reviews</th>\n",
       "      <th>rating</th>\n",
       "      <th>product url</th>\n",
       "    </tr>\n",
       "  </thead>\n",
       "  <tbody>\n",
       "  </tbody>\n",
       "</table>\n",
       "</div>"
      ],
      "text/plain": [
       "Empty DataFrame\n",
       "Columns: [user reviews, rating, product url]\n",
       "Index: []"
      ]
     },
     "execution_count": 6,
     "metadata": {},
     "output_type": "execute_result"
    }
   ],
   "source": [
    "reviews_df"
   ]
  },
  {
   "cell_type": "code",
   "execution_count": 58,
   "metadata": {},
   "outputs": [],
   "source": [
    "products_df.to_csv('products_df.csv',index=False,encoding=\"utf-8\")"
   ]
  },
  {
   "cell_type": "code",
   "execution_count": 59,
   "metadata": {},
   "outputs": [],
   "source": [
    "reviews_df.to_csv('reviews_df.csv',index=False,encoding=\"utf-8\")"
   ]
  }
 ],
 "metadata": {
  "kernelspec": {
   "display_name": "Python 3",
   "language": "python",
   "name": "python3"
  },
  "language_info": {
   "codemirror_mode": {
    "name": "ipython",
    "version": 3
   },
   "file_extension": ".py",
   "mimetype": "text/x-python",
   "name": "python",
   "nbconvert_exporter": "python",
   "pygments_lexer": "ipython3",
   "version": "3.12.1"
  }
 },
 "nbformat": 4,
 "nbformat_minor": 2
}
